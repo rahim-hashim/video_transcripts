{
 "cells": [
  {
   "cell_type": "markdown",
   "metadata": {},
   "source": [
    "# Transcript Analysis"
   ]
  },
  {
   "cell_type": "code",
   "execution_count": 18,
   "metadata": {},
   "outputs": [
    {
     "name": "stdout",
     "output_type": "stream",
     "text": [
      "Found New York Times in _Transcripts/New York Times Podcasts.\n",
      " Found 8 transcripts.\n",
      "  Reading: _Transcripts/New York Times Podcasts/20240320_New York Times Podcasts.md\n",
      "  Reading: _Transcripts/New York Times Podcasts/20240319_New York Times Podcasts.md\n",
      "  Reading: _Transcripts/New York Times Podcasts/20240326_New York Times Podcasts.md\n",
      "  Reading: _Transcripts/New York Times Podcasts/20240318_New York Times Podcasts.md\n",
      "  Reading: _Transcripts/New York Times Podcasts/20240321_New York Times Podcasts.md\n",
      "  Reading: _Transcripts/New York Times Podcasts/20240324_New York Times Podcasts.md\n",
      "  Reading: _Transcripts/New York Times Podcasts/20240322_New York Times Podcasts.md\n",
      "  Reading: _Transcripts/New York Times Podcasts/20240325_New York Times Podcasts.md\n",
      "Pickling New York Times transcript_df.\n",
      " Pickled New York Times_transcript_df.pickle in _Dataframes/.\n"
     ]
    }
   ],
   "source": [
    "import os\n",
    "import re\n",
    "import sys\n",
    "import tqdm\n",
    "import pickle\n",
    "import datetime\n",
    "import pandas as pd\n",
    "from collections import defaultdict\n",
    "\n",
    "def find_transcripts(author_name):\n",
    "\ttranscript_dir_path = '_Transcripts'\n",
    "\tfor dir in os.listdir(transcript_dir_path):\n",
    "\t\t# check if dir and if author_name is in dir\n",
    "\t\tif os.path.isdir(os.path.join(transcript_dir_path, dir)) and author_name in dir:\n",
    "\t\t\tprint(f'Found {author_name} in {transcript_dir_path}/{dir}.')\n",
    "\t\t\ttranscript_paths = []\n",
    "\t\t\tfor file in os.listdir(os.path.join(transcript_dir_path, dir)):\n",
    "\t\t\t\ttranscript_paths.append(os.path.join(transcript_dir_path, dir, file))\n",
    "\t\t\tprint(f' Found {len(transcript_paths)} transcripts.')\n",
    "\t\t\treturn transcript_paths\n",
    "\tprint(' Transcript Path not Found author:', os.path.join(os.getcwd(), author_name))\n",
    "\t\t\n",
    "def read_transcript(transcript_name, transcript_dict):\n",
    "\twith open(transcript_name, 'r') as f:\n",
    "\t\tprint(f'  Reading: {transcript_name}')\n",
    "\t\tfor line in f:\n",
    "\t\t\t# title is the first line of the transcript, with # at the beginning\n",
    "\t\t\tif line[0] == '#':\n",
    "\t\t\t\ttitle = line[1:].strip()\n",
    "\t\t\t# date is in the second line of the transcript, between [ and ]\n",
    "\t\t\t# url is in the second line of the transcript, between ( and )\n",
    "\t\t\telif line[:2] == '**':\n",
    "\t\t\t\tdate = re.search(r'\\[(.*?)\\]', line).group(1)\n",
    "\t\t\t\t# conver date to datetime (December 6, 2023 -> 2023-12-06)\n",
    "\t\t\t\tdate = datetime.datetime.strptime(date, '%B %d, %Y').strftime('%Y-%m-%d')\n",
    "\t\t\t\t# add year, month, day to the dict\n",
    "\t\t\t\tyear = date[:4]\n",
    "\t\t\t\tmonth = date[5:7]\n",
    "\t\t\t\tday = date[8:]\n",
    "\t\t\t\ttranscript_dict[title]['year'] = year\n",
    "\t\t\t\ttranscript_dict[title]['month'] = month\n",
    "\t\t\t\ttranscript_dict[title]['day'] = day\n",
    "\t\t\t\turl = re.search(r'\\((.*?)\\)', line).group(1)\n",
    "\t\t\t\ttranscript_dict[title]['url'] = url\n",
    "\t\t\telse:\n",
    "\t\t\t\t# add the line to the transcript (taking out leading * and other formatting including ' and \")\n",
    "\t\t\t\ttranscript_dict[title]['transcript'].append(str(line[3:].strip()))\n",
    "\t\treturn transcript_dict\n",
    "\n",
    "def dict_to_pandas(transcript_dict):\n",
    "\ttranscript_df = pd.DataFrame(columns=['title', 'year', 'month', 'day', 'url', 'transcript'])\n",
    "\tfor title, content in transcript_dict.items():\n",
    "\t\tnew_row = {'title': title, 'year': content['year'], \n",
    "\t\t\t\t\t\t   'month': content['month'], 'day': content['day'], \n",
    "\t\t\t\t\t\t\t 'url': content['url'], 'transcript': content['transcript']}\n",
    "\t\ttranscript_df = pd.concat([transcript_df, pd.DataFrame([new_row])], ignore_index=True)\n",
    "\t# sort by year, month, day and reset the index\n",
    "\ttranscript_df = transcript_df.sort_values(by=['year', 'month', 'day'], ascending=False, ignore_index=True)\n",
    "\treturn transcript_df\n",
    "\n",
    "def pickle_transcript_df(transcript_df, author_name):\n",
    "\tprint(f'Pickling {author_name} transcript_df.')\n",
    "\tdataframe_dir_path = '_Dataframes'\n",
    "\tif not os.path.exists(dataframe_dir_path):\n",
    "\t\tos.makedirs(dataframe_dir_path)\n",
    "\ttranscript_df_name = f'{author_name}_transcript_df.pickle'\n",
    "\tdf_path = os.path.join(dataframe_dir_path, transcript_df_name)\n",
    "\twith open(df_path, 'wb') as f:\n",
    "\t\tpickle.dump(transcript_df, f)\n",
    "\t\tprint(f' Pickled {transcript_df_name} in {dataframe_dir_path}/.')\n",
    "\n",
    "def main():\n",
    "\t# author_name = sys.argv[1]\n",
    "\tauthor_name = 'New York Times'\n",
    "\ttranscripts = find_transcripts(author_name)\n",
    "\ttranscript_dict = defaultdict(lambda: defaultdict(list))\n",
    "\tfor transcript in transcripts:\n",
    "\t\tif '.md' in transcript:\n",
    "\t\t\tread_transcript(transcript, transcript_dict)\n",
    "\ttranscript_df = dict_to_pandas(transcript_dict)\n",
    "\tpickle_transcript_df(transcript_df, author_name)\n",
    "\treturn transcript_df\n",
    "\t\n",
    "transcript_df = main()"
   ]
  },
  {
   "cell_type": "code",
   "execution_count": 19,
   "metadata": {},
   "outputs": [
    {
     "name": "stdout",
     "output_type": "stream",
     "text": [
      " Found 4/8 transcripts containing the word \"michael b\".\n",
      " Found 4/8 transcripts containing the word \"sabrina t\".\n"
     ]
    }
   ],
   "source": [
    "# find all the transcripts that contain the word (i.e. 'vaccine') including upper and lower case\n",
    "def filter_df_by_word(df, word):\n",
    "  word = word.lower()\n",
    "  # lower all words in the transcript\n",
    "  df_temp = df.copy()\n",
    "  df_temp['transcript'] = df['transcript'].apply(lambda x: [line.lower() for line in x])\n",
    "  filtered_df_temp = df_temp[df_temp['transcript'].apply(lambda x: any([word in line for line in x]))]\n",
    "  # get indices of the filtered df\n",
    "  indices = filtered_df_temp.index\n",
    "  # get the original df\n",
    "  filtered_df = df.loc[indices]\n",
    "  print(f' Found {len(filtered_df)}/{len(df)} transcripts containing the word \"{word}\".')\n",
    "  # get the original df\n",
    "  return filtered_df\n",
    "\n",
    "word = 'Michael B'\n",
    "michael_df = filter_df_by_word(transcript_df, word)\n",
    "word = 'Sabrina T'\n",
    "sabrina_df = filter_df_by_word(transcript_df, word)"
   ]
  },
  {
   "cell_type": "code",
   "execution_count": null,
   "metadata": {},
   "outputs": [],
   "source": []
  }
 ],
 "metadata": {
  "kernelspec": {
   "display_name": "Python 3",
   "language": "python",
   "name": "python3"
  },
  "language_info": {
   "codemirror_mode": {
    "name": "ipython",
    "version": 3
   },
   "file_extension": ".py",
   "mimetype": "text/x-python",
   "name": "python",
   "nbconvert_exporter": "python",
   "pygments_lexer": "ipython3",
   "version": "3.11.7"
  }
 },
 "nbformat": 4,
 "nbformat_minor": 2
}
